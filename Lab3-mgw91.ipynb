{
 "cells": [
  {
   "cell_type": "code",
   "execution_count": 3,
   "id": "b2e864c0-41d4-4f23-8c70-e1f01d90c897",
   "metadata": {},
   "outputs": [
    {
     "name": "stdin",
     "output_type": "stream",
     "text": [
      "Enter UserID as text:  harshadb\n",
      "Enter password as text:  pwd457\n",
      "Enter value of n:  3\n",
      "Enter value of d:  -1\n"
     ]
    },
    {
     "name": "stdout",
     "output_type": "stream",
     "text": [
      "encrypted userid: _a^epo^e\n",
      "encrypted password: 421atm\n",
      "Original userid: harshadb\n",
      "Original password: pwd457\n"
     ]
    }
   ],
   "source": [
    "def customEncrypt(inputtext, N, D):\n",
    "    if N < 1 or D not in [-1, 1]:\n",
    "        return \"Invalid input\"\n",
    "\n",
    "    #chars to the encrypted symbols\n",
    "    char_map = {}\n",
    "    for char in range(34, 127):\n",
    "        if char not in [32, 33]:\n",
    "            shifted_char = chr(((char - 34 + D * N) % 93) + 34)\n",
    "            char_map[chr(char)] = shifted_char\n",
    "\n",
    "    # Encrypt the input text\n",
    "    encrypted_text = \"\"\n",
    "    for char in inputtext:\n",
    "        if char in char_map:\n",
    "            encrypted_text += char_map[char]\n",
    "        else:\n",
    "            encrypted_text += char\n",
    "\n",
    "    # Reverse the encrypted text\n",
    "    encrypted_text = encrypted_text[::-1]\n",
    "    return encrypted_text\n",
    "\n",
    "def testCustomEncrypt():\n",
    "    userid = input(\"Enter UserID as text: \")\n",
    "    if any(char in userid for char in [' ', '!']):\n",
    "        print(\"Invalid input. Text cannot contain space or '!'\")\n",
    "        return\n",
    "\n",
    "    password = input(\"Enter password as text: \")\n",
    "    if any(char in password for char in [ ' ' , '!']):\n",
    "         print(\"Invalid password\")\n",
    "         return\n",
    "\n",
    "    n = int(input(\"Enter value of n: \"))\n",
    "    if n < 1:\n",
    "        print(\"N must be >= 1\")\n",
    "        return\n",
    "\n",
    "    d = int(input(\"Enter value of d: \"))\n",
    "    if d not in [-1, 1]:\n",
    "        print(\"D must be +1 or -1\")\n",
    "        return\n",
    "\n",
    "    encrypted_userid = customEncrypt(userid, n, d)\n",
    "    print(f\"encrypted userid: {encrypted_userid}\")\n",
    "\n",
    "    encrypted_password = customEncrypt(password, n, d)\n",
    "    print(f\"encrypted password: {encrypted_password}\")\n",
    "   # printf(f\"encrypted password: {encrypted_password}\")\n",
    "\n",
    "    # Decryption\n",
    "    decrypted_userid = customEncrypt(encrypted_userid, n, -d)\n",
    "    print(f\"Original userid: {decrypted_userid}\")\n",
    "\n",
    "    decrypted_password = customEncrypt(encrypted_password, n, -d)\n",
    "    print(f\"Original password: {decrypted_password}\")\n",
    "\n",
    "testCustomEncrypt()"
   ]
  },
  {
   "cell_type": "code",
   "execution_count": null,
   "id": "781ea678-8370-49f0-ac04-cbdde308e59c",
   "metadata": {},
   "outputs": [],
   "source": []
  }
 ],
 "metadata": {
  "kernelspec": {
   "display_name": "Python 3 (ipykernel)",
   "language": "python",
   "name": "python3"
  },
  "language_info": {
   "codemirror_mode": {
    "name": "ipython",
    "version": 3
   },
   "file_extension": ".py",
   "mimetype": "text/x-python",
   "name": "python",
   "nbconvert_exporter": "python",
   "pygments_lexer": "ipython3",
   "version": "3.12.0"
  }
 },
 "nbformat": 4,
 "nbformat_minor": 5
}
